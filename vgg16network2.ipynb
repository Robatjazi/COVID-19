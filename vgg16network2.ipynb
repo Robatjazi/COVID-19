{
 "cells": [
  {
   "cell_type": "code",
   "execution_count": 5,
   "metadata": {
    "scrolled": true
   },
   "outputs": [],
   "source": [
    "import numpy as np\n",
    "import argparse\n",
    "import cv2\n",
    "import os\n",
    "import matplotlib.pyplot as plt\n",
    "\n",
    "from tensorflow.keras.preprocessing.image import ImageDataGenerator\n",
    "from tensorflow.keras.applications import VGG16\n",
    "from tensorflow.keras.layers import AveragePooling2D\n",
    "from tensorflow.keras.layers import Dropout\n",
    "from tensorflow.keras.layers import Flatten\n",
    "from tensorflow.keras.layers import Dense\n",
    "from tensorflow.keras.layers import Input\n",
    "from tensorflow.keras.models import Model\n",
    "from tensorflow.keras.optimizers import Adam\n",
    "from tensorflow.keras.utils import to_categorical\n",
    "\n",
    "from sklearn.preprocessing import LabelBinarizer\n",
    "from sklearn.model_selection import train_test_split\n",
    "from sklearn.metrics import classification_report\n",
    "from sklearn.metrics import confusion_matrix\n",
    "from imutils import paths\n"
   ]
  },
  {
   "cell_type": "code",
   "execution_count": 6,
   "metadata": {},
   "outputs": [
    {
     "name": "stdout",
     "output_type": "stream",
     "text": [
      "loading positive images...\n",
      "loading negative images...\n"
     ]
    }
   ],
   "source": [
    "# grab the list of images in our dataset directory, then initialize\n",
    "# the list of data (i.e., images) and class images\n",
    "EPOCHS = 25\n",
    "data = []\n",
    "labels = []\n",
    "\n",
    "print(\"loading positive images...\")\n",
    "imageCovidPaths = list(paths.list_images('data/covid'))\n",
    "for imagePath in imageCovidPaths:    \n",
    "    label = 'covid'   \n",
    "    \n",
    "    image = cv2.imread(imagePath)\n",
    "    image = cv2.cvtColor(image, cv2.COLOR_BGR2RGB)\n",
    "    image = cv2.resize(image, (224, 224))\n",
    "    # update the data and labels lists, respectively\n",
    "    data.append(image)\n",
    "    labels.append(label)\n",
    "\n",
    "print(\"loading negative images...\")    \n",
    "imagePaths = list(paths.list_images('data/healty'))\n",
    "for imagePath in imagePaths:    \n",
    "    label = 'healty' \n",
    "    \n",
    "    image = cv2.imread(imagePath)\n",
    "    image = cv2.cvtColor(image, cv2.COLOR_BGR2RGB)\n",
    "    image = cv2.resize(image, (224, 224))\n",
    "    \n",
    "    data.append(image)\n",
    "    labels.append(label)    \n",
    "    \n",
    "\n",
    "data = np.array(data) / 255.0\n",
    "labels = np.array(labels)"
   ]
  },
  {
   "cell_type": "code",
   "execution_count": 7,
   "metadata": {},
   "outputs": [],
   "source": [
    "# perform one-hot encoding on the labels\n",
    "lb = LabelBinarizer()\n",
    "labels = lb.fit_transform(labels)\n",
    "labels = to_categorical(labels); #print(labels)\n",
    "\n",
    "# partition the data into training and testing splits using 80% of\n",
    "# the data for training and the remaining 20% for testing\n",
    "(trainX, testX, trainY, testY) = train_test_split(data, labels, test_size=0.20, stratify=labels, random_state=36)\n",
    "\n",
    "# initialize the training data augmentation object\n",
    "trainAug = ImageDataGenerator(rotation_range=15, fill_mode=\"nearest\")"
   ]
  },
  {
   "cell_type": "code",
   "execution_count": 8,
   "metadata": {},
   "outputs": [],
   "source": [
    "# load the VGG16 network\n",
    "baseModel = VGG16(weights=\"imagenet\", include_top=False, input_tensor=Input(shape=(224, 224, 3)))\n",
    "\n",
    "headModel = baseModel.output\n",
    "headModel = AveragePooling2D(pool_size=(4, 4))(headModel)\n",
    "headModel = Flatten(name=\"flatten\")(headModel)\n",
    "headModel = Dense(128, activation=\"relu\")(headModel)\n",
    "headModel = Dropout(0.5)(headModel)\n",
    "headModel = Dense(64, activation=\"relu\")(headModel)\n",
    "headModel = Dropout(0.5)(headModel)\n",
    "headModel = Dense(2, activation=\"softmax\")(headModel)\n",
    "model = Model(inputs=baseModel.input, outputs=headModel)\n",
    "\n",
    "for layer in baseModel.layers:\n",
    "    layer.trainable = False"
   ]
  },
  {
   "cell_type": "code",
   "execution_count": 9,
   "metadata": {},
   "outputs": [
    {
     "name": "stdout",
     "output_type": "stream",
     "text": [
      "Training...\n",
      "Epoch 1/25\n",
      "WARNING:tensorflow:From /home/robatjazi/.pyenv/versions/3.6.10/lib/python3.6/site-packages/tensorflow/python/ops/math_grad.py:1250: add_dispatch_support.<locals>.wrapper (from tensorflow.python.ops.array_ops) is deprecated and will be removed in a future version.\n",
      "Instructions for updating:\n",
      "Use tf.where in 2.0, which has the same broadcast rule as np.where\n",
      "11/11 [==============================] - 9s 840ms/step - loss: 1.0041 - accuracy: 0.4824 - val_loss: 0.7149 - val_accuracy: 0.5000\n",
      "Epoch 2/25\n",
      "11/11 [==============================] - 8s 743ms/step - loss: 0.7312 - accuracy: 0.5568 - val_loss: 0.6026 - val_accuracy: 0.8750\n",
      "Epoch 3/25\n",
      "11/11 [==============================] - 8s 688ms/step - loss: 0.6450 - accuracy: 0.6585 - val_loss: 0.5905 - val_accuracy: 0.5833\n",
      "Epoch 4/25\n",
      "11/11 [==============================] - 7s 680ms/step - loss: 0.6795 - accuracy: 0.6000 - val_loss: 0.5312 - val_accuracy: 0.9583\n",
      "Epoch 5/25\n",
      "11/11 [==============================] - 8s 686ms/step - loss: 0.6346 - accuracy: 0.6353 - val_loss: 0.5101 - val_accuracy: 0.8750\n",
      "Epoch 6/25\n",
      "11/11 [==============================] - 8s 686ms/step - loss: 0.5293 - accuracy: 0.7765 - val_loss: 0.4262 - val_accuracy: 0.9583\n",
      "Epoch 7/25\n",
      "11/11 [==============================] - 8s 717ms/step - loss: 0.5019 - accuracy: 0.7614 - val_loss: 0.3525 - val_accuracy: 0.9583\n",
      "Epoch 8/25\n",
      "11/11 [==============================] - 8s 688ms/step - loss: 0.4394 - accuracy: 0.8353 - val_loss: 0.2897 - val_accuracy: 0.9583\n",
      "Epoch 9/25\n",
      "11/11 [==============================] - 8s 682ms/step - loss: 0.4166 - accuracy: 0.8706 - val_loss: 0.2419 - val_accuracy: 0.9583\n",
      "Epoch 10/25\n",
      "11/11 [==============================] - 8s 682ms/step - loss: 0.2722 - accuracy: 0.9412 - val_loss: 0.1928 - val_accuracy: 0.9583\n",
      "Epoch 11/25\n",
      "11/11 [==============================] - 7s 681ms/step - loss: 0.2886 - accuracy: 0.8706 - val_loss: 0.1517 - val_accuracy: 0.9583\n",
      "Epoch 12/25\n",
      "11/11 [==============================] - 7s 679ms/step - loss: 0.2117 - accuracy: 0.9294 - val_loss: 0.1232 - val_accuracy: 1.0000\n",
      "Epoch 13/25\n",
      "11/11 [==============================] - 7s 674ms/step - loss: 0.1877 - accuracy: 0.9529 - val_loss: 0.1086 - val_accuracy: 0.9583\n",
      "Epoch 14/25\n",
      "11/11 [==============================] - 8s 697ms/step - loss: 0.1999 - accuracy: 0.9432 - val_loss: 0.1559 - val_accuracy: 0.9167\n",
      "Epoch 15/25\n",
      "11/11 [==============================] - 7s 660ms/step - loss: 0.1878 - accuracy: 0.9390 - val_loss: 0.0953 - val_accuracy: 0.9583\n",
      "Epoch 16/25\n",
      "11/11 [==============================] - 8s 685ms/step - loss: 0.1702 - accuracy: 0.9529 - val_loss: 0.0722 - val_accuracy: 0.9583\n",
      "Epoch 17/25\n",
      "11/11 [==============================] - 8s 701ms/step - loss: 0.1847 - accuracy: 0.9205 - val_loss: 0.0675 - val_accuracy: 1.0000\n",
      "Epoch 18/25\n",
      "11/11 [==============================] - 7s 680ms/step - loss: 0.1295 - accuracy: 0.9529 - val_loss: 0.0861 - val_accuracy: 0.9583\n",
      "Epoch 19/25\n",
      "11/11 [==============================] - 7s 677ms/step - loss: 0.1246 - accuracy: 0.9765 - val_loss: 0.0741 - val_accuracy: 0.9583\n",
      "Epoch 20/25\n",
      "11/11 [==============================] - 7s 662ms/step - loss: 0.0758 - accuracy: 0.9878 - val_loss: 0.0506 - val_accuracy: 1.0000\n",
      "Epoch 21/25\n",
      "11/11 [==============================] - 8s 696ms/step - loss: 0.1232 - accuracy: 0.9659 - val_loss: 0.0598 - val_accuracy: 0.9583\n",
      "Epoch 22/25\n",
      "11/11 [==============================] - 7s 678ms/step - loss: 0.0978 - accuracy: 0.9765 - val_loss: 0.0653 - val_accuracy: 0.9583\n",
      "Epoch 23/25\n",
      "11/11 [==============================] - 8s 684ms/step - loss: 0.0524 - accuracy: 0.9882 - val_loss: 0.0376 - val_accuracy: 1.0000\n",
      "Epoch 24/25\n",
      "11/11 [==============================] - 7s 680ms/step - loss: 0.0764 - accuracy: 0.9765 - val_loss: 0.0425 - val_accuracy: 1.0000\n",
      "Epoch 25/25\n",
      "11/11 [==============================] - 7s 671ms/step - loss: 0.0673 - accuracy: 0.9882 - val_loss: 0.0634 - val_accuracy: 0.9583\n"
     ]
    }
   ],
   "source": [
    "LEARNINGRATE = 1e-3\n",
    "\n",
    "# compile the model\n",
    "opt = Adam(lr=LEARNINGRATE, decay=LEARNINGRATE / EPOCHS)\n",
    "model.compile(loss=\"categorical_crossentropy\", optimizer=opt, metrics=[\"accuracy\"])\n",
    "\n",
    "print(\"Training...\")\n",
    "H = model.fit_generator(\n",
    "    trainAug.flow(trainX, trainY, batch_size=8),\n",
    "    steps_per_epoch=len(trainX) // 8,\n",
    "    validation_data=(testX, testY),\n",
    "    validation_steps=len(testX) // 8,\n",
    "    epochs=EPOCHS)"
   ]
  },
  {
   "cell_type": "code",
   "execution_count": 10,
   "metadata": {},
   "outputs": [
    {
     "name": "stdout",
     "output_type": "stream",
     "text": [
      "Evaluating network...\n",
      "              precision    recall  f1-score   support\n",
      "\n",
      "       covid       0.92      1.00      0.96        12\n",
      "      healty       1.00      0.92      0.96        12\n",
      "\n",
      "    accuracy                           0.96        24\n",
      "   macro avg       0.96      0.96      0.96        24\n",
      "weighted avg       0.96      0.96      0.96        24\n",
      "\n"
     ]
    }
   ],
   "source": [
    "# make predictions on the testing set\n",
    "print(\"Evaluating network...\")\n",
    "predIdxs = model.predict(testX, batch_size=8)\n",
    "# for each image in the testing set we need to find the index of the\n",
    "# label with corresponding largest predicted probability\n",
    "predIdxs = np.argmax(predIdxs, axis=1)\n",
    "# show a nicely formatted classification report\n",
    "print(classification_report(testY.argmax(axis=1), predIdxs, target_names=lb.classes_))\n"
   ]
  },
  {
   "cell_type": "code",
   "execution_count": 11,
   "metadata": {},
   "outputs": [
    {
     "name": "stdout",
     "output_type": "stream",
     "text": [
      "[[12  0]\n",
      " [ 1 11]]\n",
      "acc: 0.9583\n",
      "sensitivity: 1.0000\n",
      "specificity: 0.9167\n"
     ]
    }
   ],
   "source": [
    "# compute the confusion matrix and and use it to derive the raw\n",
    "# accuracy, sensitivity, and specificity\n",
    "cm = confusion_matrix(testY.argmax(axis=1), predIdxs)\n",
    "total = sum(sum(cm))\n",
    "acc = (cm[0, 0] + cm[1, 1]) / total\n",
    "sensitivity = cm[0, 0] / (cm[0, 0] + cm[0, 1])\n",
    "specificity = cm[1, 1] / (cm[1, 0] + cm[1, 1])\n",
    "# show the confusion matrix, accuracy, sensitivity, and specificity\n",
    "print(cm)\n",
    "print(\"acc: {:.4f}\".format(acc))\n",
    "print(\"sensitivity: {:.4f}\".format(sensitivity))\n",
    "print(\"specificity: {:.4f}\".format(specificity))"
   ]
  },
  {
   "cell_type": "code",
   "execution_count": 12,
   "metadata": {},
   "outputs": [
    {
     "data": {
      "image/png": "[encoded data removed]",
      "text/plain": [
       "<Figure size 432x288 with 1 Axes>"
      ]
     },
     "metadata": {},
     "output_type": "display_data"
    }
   ],
   "source": [
    "# plot the training loss and accuracy\n",
    "N = EPOCHS\n",
    "plt.style.use(\"ggplot\")\n",
    "plt.figure()\n",
    "plt.plot(np.arange(0, N), H.history[\"loss\"], label=\"train_loss\")\n",
    "plt.plot(np.arange(0, N), H.history[\"val_loss\"], label=\"val_loss\")\n",
    "plt.plot(np.arange(0, N), H.history[\"accuracy\"], label=\"train_acc\")\n",
    "plt.plot(np.arange(0, N), H.history[\"val_accuracy\"], label=\"val_acc\")\n",
    "plt.title(\"Training Loss and Accuracy on COVID-19 Dataset\")\n",
    "plt.xlabel(\"Epoch #\")\n",
    "plt.ylabel(\"Loss/Accuracy\")\n",
    "plt.legend(loc=\"lower left\")\n",
    "plt.savefig(\"plot.png\")"
   ]
  },
  {
   "cell_type": "code",
   "execution_count": null,
   "metadata": {},
   "outputs": [],
   "source": [
    "# serialize the model to disk\n",
    "print(\"[INFO] saving COVID-19 detector model...\")\n",
    "model.save(\"covid19.model\", save_format=\"h5\")"
   ]
  },
  {
   "cell_type": "code",
   "execution_count": null,
   "metadata": {},
   "outputs": [],
   "source": []
  }
 ],
 "metadata": {
  "kernelspec": {
   "display_name": "Python 3",
   "language": "python",
   "name": "python3"
  },
  "language_info": {
   "codemirror_mode": {
    "name": "ipython",
    "version": 3
   },
   "file_extension": ".py",
   "mimetype": "text/x-python",
   "name": "python",
   "nbconvert_exporter": "python",
   "pygments_lexer": "ipython3",
   "version": "3.6.10"
  }
 },
 "nbformat": 4,
 "nbformat_minor": 2
}
